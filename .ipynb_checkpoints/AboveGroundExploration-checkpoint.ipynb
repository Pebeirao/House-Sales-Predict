{
 "cells": [
  {
   "cell_type": "markdown",
   "metadata": {},
   "source": [
    "## Above Ground data and predicting data capacity"
   ]
  },
  {
   "cell_type": "code",
   "execution_count": 1,
   "metadata": {},
   "outputs": [],
   "source": [
    "# load Library\n",
    "\n",
    "import pandas as pd \n",
    "import numpy as np\n",
    "import matplotlib.pyplot as plt\n",
    "\n",
    "from sklearn import preprocessing\n",
    "\n",
    "\n",
    "%matplotlib inline"
   ]
  },
  {
   "cell_type": "code",
   "execution_count": 2,
   "metadata": {},
   "outputs": [],
   "source": [
    "GR_Sales_DF = pd.read_csv('C:Data/Gr_Sales_DF.csv',\n",
    "                               sep=',',\n",
    "                               header=0,\n",
    "                               index_col=0,\n",
    "                               )"
   ]
  },
  {
   "cell_type": "code",
   "execution_count": 4,
   "metadata": {},
   "outputs": [
    {
     "data": {
      "text/plain": [
       "0.9759025677952752"
      ]
     },
     "execution_count": 4,
     "metadata": {},
     "output_type": "execute_result"
    }
   ],
   "source": [
    "import xgboost\n",
    "\n",
    "model = xgboost.XGBRegressor(colsample_bytree=0.4,\n",
    "                 gamma=0,                 \n",
    "                 learning_rate=0.07,\n",
    "                 max_depth=3,\n",
    "                 min_child_weight=1.5,\n",
    "                 n_estimators=10000,                                                                    \n",
    "                 reg_alpha=0.75,\n",
    "                 reg_lambda=0.45,\n",
    "                 subsample=0.6,\n",
    "                 seed=42) \n",
    "\n",
    "model.fit(GR_Sales_DF.dropna().drop('SalePrice', axis=1),\n",
    "          GR_Sales_DF.dropna().loc[:,'SalePrice'])\n",
    "\n",
    "model.score(GR_Sales_DF.dropna().drop('SalePrice', axis=1),\n",
    "          GR_Sales_DF.dropna().loc[:,'SalePrice'])"
   ]
  },
  {
   "cell_type": "code",
   "execution_count": 5,
   "metadata": {},
   "outputs": [
    {
     "data": {
      "text/plain": [
       "<matplotlib.axes._subplots.AxesSubplot at 0x1efbc692c88>"
      ]
     },
     "execution_count": 5,
     "metadata": {},
     "output_type": "execute_result"
    },
    {
     "data": {
      "image/png": "[encoded data removed]",
      "text/plain": [
       "<Figure size 432x288 with 1 Axes>"
      ]
     },
     "metadata": {
      "needs_background": "light"
     },
     "output_type": "display_data"
    }
   ],
   "source": [
    "from xgboost import plot_importance\n",
    "# plot feature importance\n",
    "plot_importance(model)"
   ]
  },
  {
   "cell_type": "markdown",
   "metadata": {},
   "source": [
    "## Compare with other models "
   ]
  },
  {
   "cell_type": "code",
   "execution_count": 39,
   "metadata": {},
   "outputs": [
    {
     "data": {
      "text/plain": [
       "0.9529774779738525"
      ]
     },
     "execution_count": 39,
     "metadata": {},
     "output_type": "execute_result"
    }
   ],
   "source": [
    "import xgboost\n",
    "\n",
    "model = xgboost.XGBRegressor(colsample_bytree=0.4,\n",
    "                 gamma=0,                 \n",
    "                 learning_rate=0.07,\n",
    "                 max_depth=3,\n",
    "                 min_child_weight=1.5,\n",
    "                 n_estimators=10000,                                                                    \n",
    "                 reg_alpha=0.75,\n",
    "                 reg_lambda=0.45,\n",
    "                 subsample=0.6,\n",
    "                 seed=42) \n",
    "\n",
    "model.fit(GR_Sales_DF.dropna().drop('SalePrice', axis=1).loc[:,['GrLivArea', 'TotRmsAbvGrd',\n",
    "                                                                'BedroomAbvGr', 'FullBath',\n",
    "                                                                'HalfBath']],\n",
    "          GR_Sales_DF.dropna().loc[:,'SalePrice'])\n",
    "\n",
    "model.score(GR_Sales_DF.dropna().drop('SalePrice', axis=1).loc[:,['GrLivArea','TotRmsAbvGrd',\n",
    "                                                                  'BedroomAbvGr','FullBath',\n",
    "                                                                  'HalfBath']],\n",
    "          GR_Sales_DF.dropna().loc[:,'SalePrice'])"
   ]
  },
  {
   "cell_type": "code",
   "execution_count": 37,
   "metadata": {},
   "outputs": [
    {
     "data": {
      "text/plain": [
       "0.6905206140171041"
      ]
     },
     "execution_count": 37,
     "metadata": {},
     "output_type": "execute_result"
    }
   ],
   "source": [
    "# First do a Linear Regression \n",
    "\n",
    "from sklearn.linear_model import LinearRegression\n",
    "reg = LinearRegression().fit(GR_Sales_DF.dropna().drop('SalePrice', axis=1).loc[:,['GrLivArea', 'TotRmsAbvGrd',\n",
    "                                                                                   'BedroomAbvGr', 'FullBath',\n",
    "                                                                                   'HalfBath', 'KitchenQual_Gd',\n",
    "                                                                                   'KitchenQual_TA', 'KitchenQual_Ex']],\n",
    "                             GR_Sales_DF.dropna().loc[:,'SalePrice'])\n",
    "\n",
    "# score of the model\n",
    "reg.score(GR_Sales_DF.dropna().drop('SalePrice', axis=1).loc[:,['GrLivArea', 'TotRmsAbvGrd',\n",
    "                                                                'BedroomAbvGr', 'FullBath',\n",
    "                                                                'HalfBath', 'KitchenQual_Gd',\n",
    "                                                                'KitchenQual_TA', 'KitchenQual_Ex']],\n",
    "          GR_Sales_DF.dropna().loc[:,'SalePrice'])\n",
    "\n"
   ]
  },
  {
   "cell_type": "markdown",
   "metadata": {},
   "source": [
    "### Basic Linear Regression"
   ]
  },
  {
   "cell_type": "code",
   "execution_count": 7,
   "metadata": {},
   "outputs": [
    {
     "data": {
      "text/plain": [
       "0.7070681831069339"
      ]
     },
     "execution_count": 7,
     "metadata": {},
     "output_type": "execute_result"
    }
   ],
   "source": [
    "# First do a Linear Regression \n",
    "\n",
    "from sklearn.linear_model import LinearRegression\n",
    "reg = LinearRegression().fit(GR_Sales_DF.dropna().drop('SalePrice', axis=1),\n",
    "                             GR_Sales_DF.dropna().loc[:,'SalePrice'])\n",
    "\n",
    "# score of the model\n",
    "reg.score(GR_Sales_DF.dropna().drop('SalePrice', axis=1),\n",
    "          GR_Sales_DF.dropna().loc[:,'SalePrice'])\n",
    "\n"
   ]
  },
  {
   "cell_type": "markdown",
   "metadata": {},
   "source": [
    "#### Quantile Transformation"
   ]
  },
  {
   "cell_type": "code",
   "execution_count": 8,
   "metadata": {},
   "outputs": [
    {
     "data": {
      "text/plain": [
       "0.6993400584069303"
      ]
     },
     "execution_count": 8,
     "metadata": {},
     "output_type": "execute_result"
    }
   ],
   "source": [
    "# transform the distribution to analyse with a correlation matrix\n",
    "quantile_transformer = preprocessing.QuantileTransformer(output_distribution='normal',\n",
    "                                                         random_state=0)\n",
    "\n",
    "# Trasform the DF to a array \n",
    "Lot_Array = GR_Sales_DF.dropna().drop('SalePrice', axis=1).values\n",
    "\n",
    "# quatile trasnformation of the Lot values\n",
    "Lot_Array = quantile_transformer.fit_transform(Lot_Array)\n",
    "\n",
    "#Transform the Array in a DF\n",
    "Lot_DF = pd.DataFrame(Lot_Array,\n",
    "                      columns=GR_Sales_DF.dropna().drop('SalePrice', axis=1).columns)\n",
    "\n",
    "# Linear Regression after quantiletrasnformer\n",
    "\n",
    "reg_quant = LinearRegression().fit(Lot_DF,\n",
    "                             GR_Sales_DF.dropna().loc[:,'SalePrice'])\n",
    "\n",
    "# score of the model\n",
    "reg_quant.score(Lot_DF,\n",
    "                GR_Sales_DF.dropna().loc[:,'SalePrice'])\n",
    "\n"
   ]
  },
  {
   "cell_type": "markdown",
   "metadata": {},
   "source": [
    "###### Small increase "
   ]
  },
  {
   "cell_type": "markdown",
   "metadata": {},
   "source": [
    "#### yeo-johnson transformation"
   ]
  },
  {
   "cell_type": "code",
   "execution_count": 9,
   "metadata": {},
   "outputs": [
    {
     "data": {
      "text/plain": [
       "0.6930915496280732"
      ]
     },
     "execution_count": 9,
     "metadata": {},
     "output_type": "execute_result"
    }
   ],
   "source": [
    "# transform the distribution to analyse with a correlation matrix\n",
    "pt = preprocessing.PowerTransformer(method='yeo-johnson',\n",
    "                                    standardize=True)\n",
    "# Trasform the DF to a array \n",
    "Lot_Array = GR_Sales_DF.dropna().drop('SalePrice', axis=1).values\n",
    "\n",
    "# quatile trasnformation of the Lot values\n",
    "Lot_Array = pt.fit_transform(Lot_Array)\n",
    "\n",
    "#Transform the Array in a DF\n",
    "Lot_DF = pd.DataFrame(Lot_Array,\n",
    "                      columns=GR_Sales_DF.dropna().drop('SalePrice', axis=1).columns)\n",
    "\n",
    "# Linear Regression after quantiletrasnformer\n",
    "\n",
    "reg_yeo = LinearRegression().fit(Lot_DF,\n",
    "                             GR_Sales_DF.dropna().loc[:,'SalePrice'])\n",
    "\n",
    "# score of the model\n",
    "reg_yeo.score(Lot_DF,\n",
    "              GR_Sales_DF.dropna().loc[:,'SalePrice'])\n",
    "\n"
   ]
  },
  {
   "cell_type": "markdown",
   "metadata": {},
   "source": [
    "### Ridge regression "
   ]
  },
  {
   "cell_type": "code",
   "execution_count": 11,
   "metadata": {},
   "outputs": [
    {
     "data": {
      "text/plain": [
       "0.7070503771950558"
      ]
     },
     "execution_count": 11,
     "metadata": {},
     "output_type": "execute_result"
    }
   ],
   "source": [
    "# First Ridge regression  \n",
    "\n",
    "from sklearn.linear_model import Ridge\n",
    "ridge = Ridge(alpha=1.0).fit(GR_Sales_DF.dropna().drop('SalePrice', axis=1),\n",
    "                             GR_Sales_DF.dropna().loc[:,'SalePrice'])\n",
    "\n",
    "# score of the model\n",
    "ridge.score(GR_Sales_DF.dropna().drop('SalePrice', axis=1),\n",
    "            GR_Sales_DF.dropna().loc[:,'SalePrice'])"
   ]
  },
  {
   "cell_type": "code",
   "execution_count": 12,
   "metadata": {},
   "outputs": [
    {
     "data": {
      "text/plain": [
       "0.707050377195055"
      ]
     },
     "execution_count": 12,
     "metadata": {},
     "output_type": "execute_result"
    }
   ],
   "source": [
    "# Ridge regression find best alpha \n",
    "\n",
    "from sklearn.linear_model import RidgeCV\n",
    "\n",
    "ridgeCV = RidgeCV(alphas=[1e-3, 1e-2, 1e-1, 1, 1e+2]).fit(GR_Sales_DF.dropna().drop('SalePrice', axis=1),\n",
    "                                                    GR_Sales_DF.dropna().loc[:,'SalePrice'])\n",
    "\n",
    "# score of the model\n",
    "ridgeCV.score(GR_Sales_DF.dropna().drop('SalePrice', axis=1),\n",
    "              GR_Sales_DF.dropna().loc[:,'SalePrice'])"
   ]
  },
  {
   "cell_type": "markdown",
   "metadata": {},
   "source": [
    "### ridge with quant transformation"
   ]
  },
  {
   "cell_type": "code",
   "execution_count": 13,
   "metadata": {},
   "outputs": [
    {
     "data": {
      "text/plain": [
       "0.7070681821272964"
      ]
     },
     "execution_count": 13,
     "metadata": {},
     "output_type": "execute_result"
    }
   ],
   "source": [
    "# transform the distribution to analyse with a correlation matrix\n",
    "quantile_transformer = preprocessing.QuantileTransformer(output_distribution='normal',\n",
    "                                                         random_state=0)\n",
    "\n",
    "# Trasform the DF to a array \n",
    "Lot_Array = GR_Sales_DF.dropna().drop('SalePrice', axis=1).values\n",
    "\n",
    "# quatile trasnformation of the Lot values\n",
    "Lot_Array = quantile_transformer.fit_transform(Lot_Array)\n",
    "\n",
    "#Transform the Array in a DF\n",
    "Lot_DF = pd.DataFrame(Lot_Array,\n",
    "                      columns=GR_Sales_DF.dropna().drop('SalePrice', axis=1).columns)\n",
    "\n",
    "# Ridge CV \n",
    "ridgeCV_quant = RidgeCV(alphas=[1e-3, 1e-2, 1e-1, 1, 1e+2],\n",
    "                        gcv_mode='auto',\n",
    "                        normalize=False,\n",
    "                        scoring='r2').fit(GR_Sales_DF.dropna().drop('SalePrice', axis=1),\n",
    "                                                    GR_Sales_DF.dropna().loc[:,'SalePrice'])\n",
    "\n",
    "# score of the model\n",
    "ridgeCV_quant.score(GR_Sales_DF.dropna().drop('SalePrice', axis=1),\n",
    "                    GR_Sales_DF.dropna().loc[:,'SalePrice'])"
   ]
  },
  {
   "cell_type": "markdown",
   "metadata": {},
   "source": [
    "#### SGDRegressor model"
   ]
  },
  {
   "cell_type": "code",
   "execution_count": 14,
   "metadata": {},
   "outputs": [
    {
     "data": {
      "text/plain": [
       "-1.9818919488400985e+20"
      ]
     },
     "execution_count": 14,
     "metadata": {},
     "output_type": "execute_result"
    }
   ],
   "source": [
    "# First Ridge regression  \n",
    "\n",
    "from sklearn.linear_model import SGDRegressor\n",
    "SGDReg = SGDRegressor(penalty='elasticnet',\n",
    "                      alpha=0.01,\n",
    "                      l1_ratio=0.25,\n",
    "                      tol=1e-4,\n",
    "                      random_state=1).fit(GR_Sales_DF.dropna().drop('SalePrice', axis=1),\n",
    "                                          GR_Sales_DF.dropna().loc[:,'SalePrice'])\n",
    "\n",
    "# score of the model\n",
    "SGDReg.score(GR_Sales_DF.dropna().drop('SalePrice', axis=1),\n",
    "            GR_Sales_DF.dropna().loc[:,'SalePrice'])"
   ]
  },
  {
   "cell_type": "markdown",
   "metadata": {},
   "source": [
    "### Well looks like it is not this one XD"
   ]
  },
  {
   "cell_type": "code",
   "execution_count": 12,
   "metadata": {},
   "outputs": [],
   "source": [
    "# from sklearn.metrics import SCORERS\n",
    "\n",
    "# sorted(SCORERS.keys())\n"
   ]
  },
  {
   "cell_type": "markdown",
   "metadata": {},
   "source": [
    "### Elastic net"
   ]
  },
  {
   "cell_type": "markdown",
   "metadata": {},
   "source": [
    "Basic elasti net"
   ]
  },
  {
   "cell_type": "code",
   "execution_count": 15,
   "metadata": {},
   "outputs": [
    {
     "data": {
      "text/plain": [
       "0.49735871031485895"
      ]
     },
     "execution_count": 15,
     "metadata": {},
     "output_type": "execute_result"
    }
   ],
   "source": [
    "from sklearn.linear_model import ElasticNetCV\n",
    "\n",
    "ElasticNetCv = ElasticNetCV(cv=5, random_state=0).fit(GR_Sales_DF.dropna().drop('SalePrice', axis=1),\n",
    "                                                      GR_Sales_DF.dropna().loc[:,'SalePrice'])\n",
    "\n",
    "# score of the model\n",
    "ElasticNetCv.score(GR_Sales_DF.dropna().drop('SalePrice', axis=1),\n",
    "                   GR_Sales_DF.dropna().loc[:,'SalePrice'])"
   ]
  },
  {
   "cell_type": "markdown",
   "metadata": {},
   "source": [
    "### LarsCV"
   ]
  },
  {
   "cell_type": "markdown",
   "metadata": {},
   "source": [
    "Basic LarsCV"
   ]
  },
  {
   "cell_type": "code",
   "execution_count": 16,
   "metadata": {},
   "outputs": [
    {
     "data": {
      "text/plain": [
       "0.7068292376864693"
      ]
     },
     "execution_count": 16,
     "metadata": {},
     "output_type": "execute_result"
    }
   ],
   "source": [
    "from sklearn.linear_model import LarsCV\n",
    "\n",
    "LarsCv = LarsCV(cv=5).fit(GR_Sales_DF.dropna().drop('SalePrice', axis=1),\n",
    "                                                      GR_Sales_DF.dropna().loc[:,'SalePrice'])\n",
    "\n",
    "# score of the model\n",
    "LarsCv.score(GR_Sales_DF.dropna().drop('SalePrice', axis=1),\n",
    "                   GR_Sales_DF.dropna().loc[:,'SalePrice'])"
   ]
  },
  {
   "cell_type": "markdown",
   "metadata": {},
   "source": [
    "### LassoCV"
   ]
  },
  {
   "cell_type": "markdown",
   "metadata": {},
   "source": [
    "Basic LassoCV"
   ]
  },
  {
   "cell_type": "code",
   "execution_count": 17,
   "metadata": {},
   "outputs": [
    {
     "data": {
      "text/plain": [
       "0.5020984354067771"
      ]
     },
     "execution_count": 17,
     "metadata": {},
     "output_type": "execute_result"
    }
   ],
   "source": [
    "from sklearn.linear_model import LassoCV\n",
    "\n",
    "LassoCV = LassoCV(cv=5).fit(GR_Sales_DF.dropna().drop('SalePrice', axis=1),\n",
    "                                                      GR_Sales_DF.dropna().loc[:,'SalePrice'])\n",
    "\n",
    "# score of the model\n",
    "LassoCV.score(GR_Sales_DF.dropna().drop('SalePrice', axis=1),\n",
    "                   GR_Sales_DF.dropna().loc[:,'SalePrice'])"
   ]
  },
  {
   "cell_type": "markdown",
   "metadata": {},
   "source": [
    "### LassoLarsCV"
   ]
  },
  {
   "cell_type": "markdown",
   "metadata": {},
   "source": [
    "Basic LassoLarsCV"
   ]
  },
  {
   "cell_type": "code",
   "execution_count": 18,
   "metadata": {},
   "outputs": [
    {
     "data": {
      "text/plain": [
       "0.7068292376864693"
      ]
     },
     "execution_count": 18,
     "metadata": {},
     "output_type": "execute_result"
    }
   ],
   "source": [
    "from sklearn.linear_model import LassoLarsCV\n",
    "\n",
    "LassoLarsCV = LassoLarsCV(cv=5).fit(GR_Sales_DF.dropna().drop('SalePrice', axis=1),\n",
    "                                                      GR_Sales_DF.dropna().loc[:,'SalePrice'])\n",
    "\n",
    "# score of the model\n",
    "LassoLarsCV.score(GR_Sales_DF.dropna().drop('SalePrice', axis=1),\n",
    "                   GR_Sales_DF.dropna().loc[:,'SalePrice'])"
   ]
  },
  {
   "cell_type": "markdown",
   "metadata": {},
   "source": [
    "#### LassoLarsIC"
   ]
  },
  {
   "cell_type": "markdown",
   "metadata": {},
   "source": [
    "Basic LassoLarsIC"
   ]
  },
  {
   "cell_type": "code",
   "execution_count": 19,
   "metadata": {},
   "outputs": [
    {
     "data": {
      "text/plain": [
       "0.7031292484566305"
      ]
     },
     "execution_count": 19,
     "metadata": {},
     "output_type": "execute_result"
    }
   ],
   "source": [
    "from sklearn.linear_model import LassoLarsIC\n",
    "\n",
    "LassoLarsIC = LassoLarsIC(criterion='bic').fit(GR_Sales_DF.dropna().drop('SalePrice', axis=1),\n",
    "                                                      GR_Sales_DF.dropna().loc[:,'SalePrice'])\n",
    "\n",
    "# score of the model\n",
    "LassoLarsIC.score(GR_Sales_DF.dropna().drop('SalePrice', axis=1),\n",
    "                   GR_Sales_DF.dropna().loc[:,'SalePrice'])"
   ]
  },
  {
   "cell_type": "markdown",
   "metadata": {},
   "source": [
    "### OrthogonalMatchingPursuitCV"
   ]
  },
  {
   "cell_type": "markdown",
   "metadata": {},
   "source": [
    "OrthogonalMatchingPursuitCV"
   ]
  },
  {
   "cell_type": "code",
   "execution_count": 20,
   "metadata": {},
   "outputs": [
    {
     "data": {
      "text/plain": [
       "0.6921686806822616"
      ]
     },
     "execution_count": 20,
     "metadata": {},
     "output_type": "execute_result"
    }
   ],
   "source": [
    "from sklearn.linear_model import OrthogonalMatchingPursuitCV\n",
    "\n",
    "OrthogonalMatchingPursuitCV = OrthogonalMatchingPursuitCV(cv=5).fit(GR_Sales_DF.dropna().drop('SalePrice', axis=1),\n",
    "                                                                    GR_Sales_DF.dropna().loc[:,'SalePrice'])\n",
    "\n",
    "# score of the model\n",
    "OrthogonalMatchingPursuitCV.score(GR_Sales_DF.dropna().drop('SalePrice', axis=1),\n",
    "                   GR_Sales_DF.dropna().loc[:,'SalePrice'])"
   ]
  }
 ],
 "metadata": {
  "kernelspec": {
   "display_name": "Python 3",
   "language": "python",
   "name": "python3"
  },
  "language_info": {
   "codemirror_mode": {
    "name": "ipython",
    "version": 3
   },
   "file_extension": ".py",
   "mimetype": "text/x-python",
   "name": "python",
   "nbconvert_exporter": "python",
   "pygments_lexer": "ipython3",
   "version": "3.7.4"
  }
 },
 "nbformat": 4,
 "nbformat_minor": 4
}
