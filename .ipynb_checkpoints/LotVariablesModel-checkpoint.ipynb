{
 "cells": [
  {
   "cell_type": "markdown",
   "metadata": {},
   "source": [
    "# Regression Model to predict sales price with Lot"
   ]
  },
  {
   "cell_type": "code",
   "execution_count": 1,
   "metadata": {},
   "outputs": [],
   "source": [
    "# load Library\n",
    "\n",
    "import pandas as pd \n",
    "import numpy as np\n",
    "import matplotlib.pyplot as plt\n",
    "\n",
    "from sklearn import preprocessing\n",
    "\n",
    "\n",
    "%matplotlib inline"
   ]
  },
  {
   "cell_type": "code",
   "execution_count": 2,
   "metadata": {},
   "outputs": [],
   "source": [
    "Lot_Sales_DF = pd.read_csv('C:Data/Lot_Sales_DF.csv',\n",
    "                               sep=',',\n",
    "                               header=0,\n",
    "                               index_col=0,\n",
    "                               )"
   ]
  },
  {
   "cell_type": "markdown",
   "metadata": {},
   "source": [
    "### Basic Linear Regression"
   ]
  },
  {
   "cell_type": "code",
   "execution_count": 3,
   "metadata": {},
   "outputs": [
    {
     "data": {
      "text/plain": [
       "0.24397679484649226"
      ]
     },
     "execution_count": 3,
     "metadata": {},
     "output_type": "execute_result"
    }
   ],
   "source": [
    "# First do a Linear Regression \n",
    "\n",
    "from sklearn.linear_model import LinearRegression\n",
    "reg = LinearRegression().fit(Lot_Sales_DF.dropna().drop('SalePrice', axis=1),\n",
    "                             Lot_Sales_DF.dropna().loc[:,'SalePrice'])\n",
    "\n",
    "# score of the model\n",
    "reg.score(Lot_Sales_DF.dropna().drop('SalePrice', axis=1),\n",
    "          Lot_Sales_DF.dropna().loc[:,'SalePrice'])\n",
    "\n"
   ]
  },
  {
   "cell_type": "markdown",
   "metadata": {},
   "source": [
    "#### Quantile Transformation"
   ]
  },
  {
   "cell_type": "code",
   "execution_count": 4,
   "metadata": {},
   "outputs": [
    {
     "data": {
      "text/plain": [
       "0.2774542075733244"
      ]
     },
     "execution_count": 4,
     "metadata": {},
     "output_type": "execute_result"
    }
   ],
   "source": [
    "# transform the distribution to analyse with a correlation matrix\n",
    "quantile_transformer = preprocessing.QuantileTransformer(output_distribution='normal',\n",
    "                                                         random_state=0)\n",
    "\n",
    "# Trasform the DF to a array \n",
    "Lot_Array = Lot_Sales_DF.dropna().drop('SalePrice', axis=1).values\n",
    "\n",
    "# quatile trasnformation of the Lot values\n",
    "Lot_Array = quantile_transformer.fit_transform(Lot_Array)\n",
    "\n",
    "#Transform the Array in a DF\n",
    "Lot_DF = pd.DataFrame(Lot_Array,\n",
    "                      columns=Lot_Sales_DF.dropna().drop('SalePrice', axis=1).columns)\n",
    "\n",
    "# Linear Regression after quantiletrasnformer\n",
    "\n",
    "reg_quant = LinearRegression().fit(Lot_DF,\n",
    "                             Lot_Sales_DF.dropna().loc[:,'SalePrice'])\n",
    "\n",
    "# score of the model\n",
    "reg_quant.score(Lot_DF,\n",
    "                Lot_Sales_DF.dropna().loc[:,'SalePrice'])\n",
    "\n"
   ]
  },
  {
   "cell_type": "markdown",
   "metadata": {},
   "source": [
    "###### Small increase "
   ]
  },
  {
   "cell_type": "markdown",
   "metadata": {},
   "source": [
    "#### yeo-johnson transformation"
   ]
  },
  {
   "cell_type": "code",
   "execution_count": 5,
   "metadata": {},
   "outputs": [
    {
     "data": {
      "text/plain": [
       "0.24873286150900875"
      ]
     },
     "execution_count": 5,
     "metadata": {},
     "output_type": "execute_result"
    }
   ],
   "source": [
    "# transform the distribution to analyse with a correlation matrix\n",
    "pt = preprocessing.PowerTransformer(method='yeo-johnson',\n",
    "                                    standardize=True)\n",
    "# Trasform the DF to a array \n",
    "Lot_Array = Lot_Sales_DF.dropna().drop('SalePrice', axis=1).values\n",
    "\n",
    "# quatile trasnformation of the Lot values\n",
    "Lot_Array = pt.fit_transform(Lot_Array)\n",
    "\n",
    "#Transform the Array in a DF\n",
    "Lot_DF = pd.DataFrame(Lot_Array,\n",
    "                      columns=Lot_Sales_DF.dropna().drop('SalePrice', axis=1).columns)\n",
    "\n",
    "# Linear Regression after quantiletrasnformer\n",
    "\n",
    "reg_yeo = LinearRegression().fit(Lot_DF,\n",
    "                             Lot_Sales_DF.dropna().loc[:,'SalePrice'])\n",
    "\n",
    "# score of the model\n",
    "reg_yeo.score(Lot_DF,\n",
    "              Lot_Sales_DF.dropna().loc[:,'SalePrice'])\n",
    "\n"
   ]
  },
  {
   "cell_type": "markdown",
   "metadata": {},
   "source": [
    "### Ridge regression "
   ]
  },
  {
   "cell_type": "code",
   "execution_count": 6,
   "metadata": {},
   "outputs": [
    {
     "data": {
      "text/plain": [
       "0.24384153493139193"
      ]
     },
     "execution_count": 6,
     "metadata": {},
     "output_type": "execute_result"
    }
   ],
   "source": [
    "# First Ridge regression  \n",
    "\n",
    "from sklearn.linear_model import Ridge\n",
    "ridge = Ridge(alpha=1.0).fit(Lot_Sales_DF.dropna().drop('SalePrice', axis=1),\n",
    "                             Lot_Sales_DF.dropna().loc[:,'SalePrice'])\n",
    "\n",
    "# score of the model\n",
    "ridge.score(Lot_Sales_DF.dropna().drop('SalePrice', axis=1),\n",
    "            Lot_Sales_DF.dropna().loc[:,'SalePrice'])"
   ]
  },
  {
   "cell_type": "code",
   "execution_count": 7,
   "metadata": {},
   "outputs": [
    {
     "data": {
      "text/plain": [
       "0.24384153492321814"
      ]
     },
     "execution_count": 7,
     "metadata": {},
     "output_type": "execute_result"
    }
   ],
   "source": [
    "# Ridge regression find best alpha \n",
    "\n",
    "from sklearn.linear_model import RidgeCV\n",
    "\n",
    "ridgeCV = RidgeCV(alphas=[1e-3, 1e-2, 1e-1, 1, 1e+2]).fit(Lot_Sales_DF.dropna().drop('SalePrice', axis=1),\n",
    "                                                    Lot_Sales_DF.dropna().loc[:,'SalePrice'])\n",
    "\n",
    "# score of the model\n",
    "ridgeCV.score(Lot_Sales_DF.dropna().drop('SalePrice', axis=1),\n",
    "              Lot_Sales_DF.dropna().loc[:,'SalePrice'])"
   ]
  },
  {
   "cell_type": "markdown",
   "metadata": {},
   "source": [
    "### ridge with quant transformation"
   ]
  },
  {
   "cell_type": "code",
   "execution_count": 8,
   "metadata": {},
   "outputs": [
    {
     "data": {
      "text/plain": [
       "0.24394276876737553"
      ]
     },
     "execution_count": 8,
     "metadata": {},
     "output_type": "execute_result"
    }
   ],
   "source": [
    "# transform the distribution to analyse with a correlation matrix\n",
    "quantile_transformer = preprocessing.QuantileTransformer(output_distribution='normal',\n",
    "                                                         random_state=0)\n",
    "\n",
    "# Trasform the DF to a array \n",
    "Lot_Array = Lot_Sales_DF.dropna().drop('SalePrice', axis=1).values\n",
    "\n",
    "# quatile trasnformation of the Lot values\n",
    "Lot_Array = quantile_transformer.fit_transform(Lot_Array)\n",
    "\n",
    "#Transform the Array in a DF\n",
    "Lot_DF = pd.DataFrame(Lot_Array,\n",
    "                      columns=Lot_Sales_DF.dropna().drop('SalePrice', axis=1).columns)\n",
    "\n",
    "# Ridge CV \n",
    "ridgeCV_quant = RidgeCV(alphas=[1e-3, 1e-2, 1e-1, 1, 1e+2],\n",
    "                        gcv_mode='auto',\n",
    "                        normalize=False,\n",
    "                        scoring='r2').fit(Lot_Sales_DF.dropna().drop('SalePrice', axis=1),\n",
    "                                                    Lot_Sales_DF.dropna().loc[:,'SalePrice'])\n",
    "\n",
    "# score of the model\n",
    "ridgeCV_quant.score(Lot_Sales_DF.dropna().drop('SalePrice', axis=1),\n",
    "                    Lot_Sales_DF.dropna().loc[:,'SalePrice'])"
   ]
  },
  {
   "cell_type": "markdown",
   "metadata": {},
   "source": [
    "#### SGDRegressor model"
   ]
  },
  {
   "cell_type": "code",
   "execution_count": 25,
   "metadata": {},
   "outputs": [
    {
     "data": {
      "text/plain": [
       "-1.9299701119527393e+23"
      ]
     },
     "execution_count": 25,
     "metadata": {},
     "output_type": "execute_result"
    }
   ],
   "source": [
    "# First Ridge regression  \n",
    "\n",
    "from sklearn.linear_model import SGDRegressor\n",
    "SGDReg = SGDRegressor(penalty='elasticnet',\n",
    "                      alpha=0.01,\n",
    "                      l1_ratio=0.25,\n",
    "                      tol=1e-4,\n",
    "                      random_state=1).fit(Lot_Sales_DF.dropna().drop('SalePrice', axis=1),\n",
    "                                          Lot_Sales_DF.dropna().loc[:,'SalePrice'])\n",
    "\n",
    "# score of the model\n",
    "SGDReg.score(Lot_Sales_DF.dropna().drop('SalePrice', axis=1),\n",
    "            Lot_Sales_DF.dropna().loc[:,'SalePrice'])"
   ]
  },
  {
   "cell_type": "markdown",
   "metadata": {},
   "source": [
    "### Well looks like it is not this one XD"
   ]
  },
  {
   "cell_type": "code",
   "execution_count": 10,
   "metadata": {},
   "outputs": [
    {
     "data": {
      "text/plain": [
       "['accuracy',\n",
       " 'adjusted_mutual_info_score',\n",
       " 'adjusted_rand_score',\n",
       " 'average_precision',\n",
       " 'balanced_accuracy',\n",
       " 'brier_score_loss',\n",
       " 'completeness_score',\n",
       " 'explained_variance',\n",
       " 'f1',\n",
       " 'f1_macro',\n",
       " 'f1_micro',\n",
       " 'f1_samples',\n",
       " 'f1_weighted',\n",
       " 'fowlkes_mallows_score',\n",
       " 'homogeneity_score',\n",
       " 'jaccard',\n",
       " 'jaccard_macro',\n",
       " 'jaccard_micro',\n",
       " 'jaccard_samples',\n",
       " 'jaccard_weighted',\n",
       " 'max_error',\n",
       " 'mutual_info_score',\n",
       " 'neg_log_loss',\n",
       " 'neg_mean_absolute_error',\n",
       " 'neg_mean_squared_error',\n",
       " 'neg_mean_squared_log_error',\n",
       " 'neg_median_absolute_error',\n",
       " 'normalized_mutual_info_score',\n",
       " 'precision',\n",
       " 'precision_macro',\n",
       " 'precision_micro',\n",
       " 'precision_samples',\n",
       " 'precision_weighted',\n",
       " 'r2',\n",
       " 'recall',\n",
       " 'recall_macro',\n",
       " 'recall_micro',\n",
       " 'recall_samples',\n",
       " 'recall_weighted',\n",
       " 'roc_auc',\n",
       " 'v_measure_score']"
      ]
     },
     "execution_count": 10,
     "metadata": {},
     "output_type": "execute_result"
    }
   ],
   "source": [
    "from sklearn.metrics import SCORERS\n",
    "\n",
    "sorted(SCORERS.keys())"
   ]
  },
  {
   "cell_type": "code",
   "execution_count": 21,
   "metadata": {},
   "outputs": [
    {
     "data": {
      "text/plain": [
       "<bound method BaseEstimator.get_params of SGDRegressor(alpha=0.01, average=False, early_stopping=False, epsilon=0.1,\n",
       "             eta0=0.01, fit_intercept=True, l1_ratio=0.25,\n",
       "             learning_rate='invscaling', loss='squared_loss', max_iter=1000,\n",
       "             n_iter_no_change=5, penalty='elasticnet', power_t=0.25,\n",
       "             random_state=None, shuffle=True, tol=0.0001,\n",
       "             validation_fraction=0.1, verbose=0, warm_start=False)>"
      ]
     },
     "execution_count": 21,
     "metadata": {},
     "output_type": "execute_result"
    }
   ],
   "source": [
    "SGDReg.get_params\n"
   ]
  }
 ],
 "metadata": {
  "kernelspec": {
   "display_name": "Python 3",
   "language": "python",
   "name": "python3"
  },
  "language_info": {
   "name": ""
  }
 },
 "nbformat": 4,
 "nbformat_minor": 4
}
