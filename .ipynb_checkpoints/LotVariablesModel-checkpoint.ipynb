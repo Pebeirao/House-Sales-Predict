{
 "cells": [
  {
   "cell_type": "markdown",
   "metadata": {},
   "source": [
    "# Regression Model to predict sales price with Lot"
   ]
  },
  {
   "cell_type": "code",
   "execution_count": 3,
   "metadata": {},
   "outputs": [],
   "source": [
    "# load Library\n",
    "\n",
    "import pandas as pd \n",
    "import numpy as np\n",
    "import matplotlib.pyplot as plt\n",
    "\n",
    "from sklearn import preprocessing\n",
    "\n",
    "\n",
    "%matplotlib inline"
   ]
  },
  {
   "cell_type": "code",
   "execution_count": 4,
   "metadata": {},
   "outputs": [],
   "source": [
    "Lot_Sales_DF = pd.read_csv('C:Data/Lot_Sales_DF.csv',\n",
    "                               sep=',',\n",
    "                               header=0,\n",
    "                               index_col=0,\n",
    "                               )"
   ]
  },
  {
   "cell_type": "markdown",
   "metadata": {},
   "source": [
    "### Basic Linear Regression"
   ]
  },
  {
   "cell_type": "code",
   "execution_count": 5,
   "metadata": {},
   "outputs": [
    {
     "data": {
      "text/plain": [
       "0.24397679484649226"
      ]
     },
     "execution_count": 5,
     "metadata": {},
     "output_type": "execute_result"
    }
   ],
   "source": [
    "# First do a Linear Regression \n",
    "\n",
    "from sklearn.linear_model import LinearRegression\n",
    "reg = LinearRegression().fit(Lot_Sales_DF.dropna().drop('SalePrice', axis=1),\n",
    "                             Lot_Sales_DF.dropna().loc[:,'SalePrice'])\n",
    "\n",
    "# score of the model\n",
    "reg.score(Lot_Sales_DF.dropna().drop('SalePrice', axis=1),\n",
    "          Lot_Sales_DF.dropna().loc[:,'SalePrice'])\n",
    "\n"
   ]
  },
  {
   "cell_type": "markdown",
   "metadata": {},
   "source": [
    "#### Quantile Transformation"
   ]
  },
  {
   "cell_type": "code",
   "execution_count": 6,
   "metadata": {},
   "outputs": [
    {
     "data": {
      "text/plain": [
       "0.2774542075733244"
      ]
     },
     "execution_count": 6,
     "metadata": {},
     "output_type": "execute_result"
    }
   ],
   "source": [
    "# transform the distribution to analyse with a correlation matrix\n",
    "quantile_transformer = preprocessing.QuantileTransformer(output_distribution='normal',\n",
    "                                                         random_state=0)\n",
    "\n",
    "# Trasform the DF to a array \n",
    "Lot_Array = Lot_Sales_DF.dropna().drop('SalePrice', axis=1).values\n",
    "\n",
    "# quatile trasnformation of the Lot values\n",
    "Lot_Array = quantile_transformer.fit_transform(Lot_Array)\n",
    "\n",
    "#Transform the Array in a DF\n",
    "Lot_DF = pd.DataFrame(Lot_Array,\n",
    "                      columns=Lot_Sales_DF.dropna().drop('SalePrice', axis=1).columns)\n",
    "\n",
    "# Linear Regression after quantiletrasnformer\n",
    "\n",
    "reg_quant = LinearRegression().fit(Lot_DF,\n",
    "                             Lot_Sales_DF.dropna().loc[:,'SalePrice'])\n",
    "\n",
    "# score of the model\n",
    "reg_quant.score(Lot_DF,\n",
    "                Lot_Sales_DF.dropna().loc[:,'SalePrice'])\n",
    "\n"
   ]
  },
  {
   "cell_type": "markdown",
   "metadata": {},
   "source": [
    "###### Small increase "
   ]
  },
  {
   "cell_type": "markdown",
   "metadata": {},
   "source": [
    "#### yeo-johnson transformation"
   ]
  },
  {
   "cell_type": "code",
   "execution_count": 5,
   "metadata": {},
   "outputs": [
    {
     "data": {
      "text/plain": [
       "0.24873286150900875"
      ]
     },
     "execution_count": 5,
     "metadata": {},
     "output_type": "execute_result"
    }
   ],
   "source": [
    "# transform the distribution to analyse with a correlation matrix\n",
    "pt = preprocessing.PowerTransformer(method='yeo-johnson',\n",
    "                                    standardize=True)\n",
    "# Trasform the DF to a array \n",
    "Lot_Array = Lot_Sales_DF.dropna().drop('SalePrice', axis=1).values\n",
    "\n",
    "# quatile trasnformation of the Lot values\n",
    "Lot_Array = pt.fit_transform(Lot_Array)\n",
    "\n",
    "#Transform the Array in a DF\n",
    "Lot_DF = pd.DataFrame(Lot_Array,\n",
    "                      columns=Lot_Sales_DF.dropna().drop('SalePrice', axis=1).columns)\n",
    "\n",
    "# Linear Regression after quantiletrasnformer\n",
    "\n",
    "reg_yeo = LinearRegression().fit(Lot_DF,\n",
    "                             Lot_Sales_DF.dropna().loc[:,'SalePrice'])\n",
    "\n",
    "# score of the model\n",
    "reg_yeo.score(Lot_DF,\n",
    "              Lot_Sales_DF.dropna().loc[:,'SalePrice'])\n",
    "\n"
   ]
  },
  {
   "cell_type": "markdown",
   "metadata": {},
   "source": [
    "### Ridge regression "
   ]
  },
  {
   "cell_type": "code",
   "execution_count": 6,
   "metadata": {},
   "outputs": [
    {
     "data": {
      "text/plain": [
       "0.24384153493139193"
      ]
     },
     "execution_count": 6,
     "metadata": {},
     "output_type": "execute_result"
    }
   ],
   "source": [
    "# First Ridge regression  \n",
    "\n",
    "from sklearn.linear_model import Ridge\n",
    "ridge = Ridge(alpha=1.0).fit(Lot_Sales_DF.dropna().drop('SalePrice', axis=1),\n",
    "                             Lot_Sales_DF.dropna().loc[:,'SalePrice'])\n",
    "\n",
    "# score of the model\n",
    "ridge.score(Lot_Sales_DF.dropna().drop('SalePrice', axis=1),\n",
    "            Lot_Sales_DF.dropna().loc[:,'SalePrice'])"
   ]
  },
  {
   "cell_type": "code",
   "execution_count": 7,
   "metadata": {},
   "outputs": [
    {
     "data": {
      "text/plain": [
       "0.24384153492321814"
      ]
     },
     "execution_count": 7,
     "metadata": {},
     "output_type": "execute_result"
    }
   ],
   "source": [
    "# Ridge regression find best alpha \n",
    "\n",
    "from sklearn.linear_model import RidgeCV\n",
    "\n",
    "ridgeCV = RidgeCV(alphas=[1e-3, 1e-2, 1e-1, 1, 1e+2]).fit(Lot_Sales_DF.dropna().drop('SalePrice', axis=1),\n",
    "                                                    Lot_Sales_DF.dropna().loc[:,'SalePrice'])\n",
    "\n",
    "# score of the model\n",
    "ridgeCV.score(Lot_Sales_DF.dropna().drop('SalePrice', axis=1),\n",
    "              Lot_Sales_DF.dropna().loc[:,'SalePrice'])"
   ]
  },
  {
   "cell_type": "markdown",
   "metadata": {},
   "source": [
    "### ridge with quant transformation"
   ]
  },
  {
   "cell_type": "code",
   "execution_count": 8,
   "metadata": {},
   "outputs": [
    {
     "data": {
      "text/plain": [
       "0.24394276876737553"
      ]
     },
     "execution_count": 8,
     "metadata": {},
     "output_type": "execute_result"
    }
   ],
   "source": [
    "# transform the distribution to analyse with a correlation matrix\n",
    "quantile_transformer = preprocessing.QuantileTransformer(output_distribution='normal',\n",
    "                                                         random_state=0)\n",
    "\n",
    "# Trasform the DF to a array \n",
    "Lot_Array = Lot_Sales_DF.dropna().drop('SalePrice', axis=1).values\n",
    "\n",
    "# quatile trasnformation of the Lot values\n",
    "Lot_Array = quantile_transformer.fit_transform(Lot_Array)\n",
    "\n",
    "#Transform the Array in a DF\n",
    "Lot_DF = pd.DataFrame(Lot_Array,\n",
    "                      columns=Lot_Sales_DF.dropna().drop('SalePrice', axis=1).columns)\n",
    "\n",
    "# Ridge CV \n",
    "ridgeCV_quant = RidgeCV(alphas=[1e-3, 1e-2, 1e-1, 1, 1e+2],\n",
    "                        gcv_mode='auto',\n",
    "                        normalize=False,\n",
    "                        scoring='r2').fit(Lot_Sales_DF.dropna().drop('SalePrice', axis=1),\n",
    "                                                    Lot_Sales_DF.dropna().loc[:,'SalePrice'])\n",
    "\n",
    "# score of the model\n",
    "ridgeCV_quant.score(Lot_Sales_DF.dropna().drop('SalePrice', axis=1),\n",
    "                    Lot_Sales_DF.dropna().loc[:,'SalePrice'])"
   ]
  },
  {
   "cell_type": "markdown",
   "metadata": {},
   "source": [
    "#### SGDRegressor model"
   ]
  },
  {
   "cell_type": "code",
   "execution_count": 9,
   "metadata": {},
   "outputs": [
    {
     "data": {
      "text/plain": [
       "-1.9299701119527393e+23"
      ]
     },
     "execution_count": 9,
     "metadata": {},
     "output_type": "execute_result"
    }
   ],
   "source": [
    "# First Ridge regression  \n",
    "\n",
    "from sklearn.linear_model import SGDRegressor\n",
    "SGDReg = SGDRegressor(penalty='elasticnet',\n",
    "                      alpha=0.01,\n",
    "                      l1_ratio=0.25,\n",
    "                      tol=1e-4,\n",
    "                      random_state=1).fit(Lot_Sales_DF.dropna().drop('SalePrice', axis=1),\n",
    "                                          Lot_Sales_DF.dropna().loc[:,'SalePrice'])\n",
    "\n",
    "# score of the model\n",
    "SGDReg.score(Lot_Sales_DF.dropna().drop('SalePrice', axis=1),\n",
    "            Lot_Sales_DF.dropna().loc[:,'SalePrice'])"
   ]
  },
  {
   "cell_type": "markdown",
   "metadata": {},
   "source": [
    "### Well looks like it is not this one XD"
   ]
  },
  {
   "cell_type": "code",
   "execution_count": 12,
   "metadata": {},
   "outputs": [],
   "source": [
    "# from sklearn.metrics import SCORERS\n",
    "\n",
    "# sorted(SCORERS.keys())\n"
   ]
  },
  {
   "cell_type": "markdown",
   "metadata": {},
   "source": [
    "### Elastic net"
   ]
  },
  {
   "cell_type": "markdown",
   "metadata": {},
   "source": [
    "Basic elasti net"
   ]
  },
  {
   "cell_type": "code",
   "execution_count": 13,
   "metadata": {},
   "outputs": [
    {
     "data": {
      "text/plain": [
       "0.08036020831081436"
      ]
     },
     "execution_count": 13,
     "metadata": {},
     "output_type": "execute_result"
    }
   ],
   "source": [
    "from sklearn.linear_model import ElasticNetCV\n",
    "\n",
    "ElasticNetCv = ElasticNetCV(cv=5, random_state=0).fit(Lot_Sales_DF.dropna().drop('SalePrice', axis=1),\n",
    "                                                      Lot_Sales_DF.dropna().loc[:,'SalePrice'])\n",
    "\n",
    "# score of the model\n",
    "ElasticNetCv.score(Lot_Sales_DF.dropna().drop('SalePrice', axis=1),\n",
    "                   Lot_Sales_DF.dropna().loc[:,'SalePrice'])"
   ]
  },
  {
   "cell_type": "markdown",
   "metadata": {},
   "source": [
    "### LarsCV"
   ]
  },
  {
   "cell_type": "markdown",
   "metadata": {},
   "source": [
    "Basic LarsCV"
   ]
  },
  {
   "cell_type": "code",
   "execution_count": 15,
   "metadata": {},
   "outputs": [
    {
     "data": {
      "text/plain": [
       "0.24382173115344608"
      ]
     },
     "execution_count": 15,
     "metadata": {},
     "output_type": "execute_result"
    }
   ],
   "source": [
    "from sklearn.linear_model import LarsCV\n",
    "\n",
    "LarsCv = LarsCV(cv=5).fit(Lot_Sales_DF.dropna().drop('SalePrice', axis=1),\n",
    "                                                      Lot_Sales_DF.dropna().loc[:,'SalePrice'])\n",
    "\n",
    "# score of the model\n",
    "LarsCv.score(Lot_Sales_DF.dropna().drop('SalePrice', axis=1),\n",
    "                   Lot_Sales_DF.dropna().loc[:,'SalePrice'])"
   ]
  },
  {
   "cell_type": "markdown",
   "metadata": {},
   "source": [
    "### LassoCV"
   ]
  },
  {
   "cell_type": "markdown",
   "metadata": {},
   "source": [
    "Basic LassoCV"
   ]
  },
  {
   "cell_type": "code",
   "execution_count": 16,
   "metadata": {},
   "outputs": [
    {
     "data": {
      "text/plain": [
       "0.06935952727833783"
      ]
     },
     "execution_count": 16,
     "metadata": {},
     "output_type": "execute_result"
    }
   ],
   "source": [
    "from sklearn.linear_model import LassoCV\n",
    "\n",
    "LassoCV = LassoCV(cv=5).fit(Lot_Sales_DF.dropna().drop('SalePrice', axis=1),\n",
    "                                                      Lot_Sales_DF.dropna().loc[:,'SalePrice'])\n",
    "\n",
    "# score of the model\n",
    "LassoCV.score(Lot_Sales_DF.dropna().drop('SalePrice', axis=1),\n",
    "                   Lot_Sales_DF.dropna().loc[:,'SalePrice'])"
   ]
  },
  {
   "cell_type": "markdown",
   "metadata": {},
   "source": [
    "### LassoLarsCV"
   ]
  },
  {
   "cell_type": "markdown",
   "metadata": {},
   "source": [
    "Basic LassoLarsCV"
   ]
  },
  {
   "cell_type": "code",
   "execution_count": 17,
   "metadata": {},
   "outputs": [
    {
     "data": {
      "text/plain": [
       "0.24382173115344608"
      ]
     },
     "execution_count": 17,
     "metadata": {},
     "output_type": "execute_result"
    }
   ],
   "source": [
    "from sklearn.linear_model import LassoLarsCV\n",
    "\n",
    "LassoLarsCV = LassoLarsCV(cv=5).fit(Lot_Sales_DF.dropna().drop('SalePrice', axis=1),\n",
    "                                                      Lot_Sales_DF.dropna().loc[:,'SalePrice'])\n",
    "\n",
    "# score of the model\n",
    "LassoLarsCV.score(Lot_Sales_DF.dropna().drop('SalePrice', axis=1),\n",
    "                   Lot_Sales_DF.dropna().loc[:,'SalePrice'])"
   ]
  },
  {
   "cell_type": "markdown",
   "metadata": {},
   "source": [
    "#### LassoLarsIC"
   ]
  },
  {
   "cell_type": "markdown",
   "metadata": {},
   "source": [
    "Basic LassoLarsIC"
   ]
  },
  {
   "cell_type": "code",
   "execution_count": 18,
   "metadata": {},
   "outputs": [
    {
     "data": {
      "text/plain": [
       "0.24052485554511482"
      ]
     },
     "execution_count": 18,
     "metadata": {},
     "output_type": "execute_result"
    }
   ],
   "source": [
    "from sklearn.linear_model import LassoLarsIC\n",
    "\n",
    "LassoLarsIC = LassoLarsIC(criterion='bic').fit(Lot_Sales_DF.dropna().drop('SalePrice', axis=1),\n",
    "                                                      Lot_Sales_DF.dropna().loc[:,'SalePrice'])\n",
    "\n",
    "# score of the model\n",
    "LassoLarsIC.score(Lot_Sales_DF.dropna().drop('SalePrice', axis=1),\n",
    "                   Lot_Sales_DF.dropna().loc[:,'SalePrice'])"
   ]
  },
  {
   "cell_type": "markdown",
   "metadata": {},
   "source": [
    "### OrthogonalMatchingPursuitCV"
   ]
  },
  {
   "cell_type": "markdown",
   "metadata": {},
   "source": [
    "OrthogonalMatchingPursuitCV"
   ]
  },
  {
   "cell_type": "code",
   "execution_count": 21,
   "metadata": {},
   "outputs": [
    {
     "data": {
      "text/plain": [
       "0.23932551202347296"
      ]
     },
     "execution_count": 21,
     "metadata": {},
     "output_type": "execute_result"
    }
   ],
   "source": [
    "from sklearn.linear_model import OrthogonalMatchingPursuitCV\n",
    "\n",
    "OrthogonalMatchingPursuitCV = OrthogonalMatchingPursuitCV(cv=5).fit(Lot_Sales_DF.dropna().drop('SalePrice', axis=1),\n",
    "                                                                    Lot_Sales_DF.dropna().loc[:,'SalePrice'])\n",
    "\n",
    "# score of the model\n",
    "OrthogonalMatchingPursuitCV.score(Lot_Sales_DF.dropna().drop('SalePrice', axis=1),\n",
    "                   Lot_Sales_DF.dropna().loc[:,'SalePrice'])"
   ]
  },
  {
   "cell_type": "markdown",
   "metadata": {},
   "source": [
    "### Xgboost "
   ]
  },
  {
   "cell_type": "code",
   "execution_count": 7,
   "metadata": {},
   "outputs": [
    {
     "data": {
      "text/plain": [
       "0.9390530954324344"
      ]
     },
     "execution_count": 7,
     "metadata": {},
     "output_type": "execute_result"
    }
   ],
   "source": [
    "import xgboost\n",
    "\n",
    "model = xgboost.XGBRegressor(colsample_bytree=0.4,\n",
    "                 gamma=0,                 \n",
    "                 learning_rate=0.07,\n",
    "                 max_depth=3,\n",
    "                 min_child_weight=1.5,\n",
    "                 n_estimators=10000,                                                                    \n",
    "                 reg_alpha=0.75,\n",
    "                 reg_lambda=0.45,\n",
    "                 subsample=0.6,\n",
    "                 seed=42) \n",
    "\n",
    "model.fit(Lot_Sales_DF.dropna().drop('SalePrice', axis=1),\n",
    "          Lot_Sales_DF.dropna().loc[:,'SalePrice'])\n",
    "\n",
    "model.score(Lot_Sales_DF.dropna().drop('SalePrice', axis=1),\n",
    "          Lot_Sales_DF.dropna().loc[:,'SalePrice'])"
   ]
  },
  {
   "cell_type": "markdown",
   "metadata": {},
   "source": [
    "The difference is impressive "
   ]
  },
  {
   "cell_type": "code",
   "execution_count": 19,
   "metadata": {},
   "outputs": [
    {
     "data": {
      "text/plain": [
       "<matplotlib.axes._subplots.AxesSubplot at 0x220fd9c2ac8>"
      ]
     },
     "execution_count": 19,
     "metadata": {},
     "output_type": "execute_result"
    },
    {
     "data": {
      "image/png": "[encoded data removed]",
      "text/plain": [
       "<Figure size 432x288 with 1 Axes>"
      ]
     },
     "metadata": {
      "needs_background": "light"
     },
     "output_type": "display_data"
    }
   ],
   "source": [
    "from xgboost import plot_importance\n",
    "# plot feature importance\n",
    "plot_importance(model)"
   ]
  },
  {
   "cell_type": "markdown",
   "metadata": {},
   "source": [
    "Score with only the two most important attributes"
   ]
  },
  {
   "cell_type": "code",
   "execution_count": 23,
   "metadata": {},
   "outputs": [
    {
     "data": {
      "text/plain": [
       "0.9159007915880506"
      ]
     },
     "execution_count": 23,
     "metadata": {},
     "output_type": "execute_result"
    }
   ],
   "source": [
    "model = xgboost.XGBRegressor(colsample_bytree=0.4,\n",
    "                 gamma=0,                 \n",
    "                 learning_rate=0.07,\n",
    "                 max_depth=3,\n",
    "                 min_child_weight=1.5,\n",
    "                 n_estimators=10000,                                                                    \n",
    "                 reg_alpha=0.75,\n",
    "                 reg_lambda=0.45,\n",
    "                 subsample=0.6,\n",
    "                 seed=42) \n",
    "\n",
    "model.fit(Lot_Sales_DF.dropna().drop('SalePrice', axis=1).loc[:,[\"LotArea\", \"LotFrontage\"]],\n",
    "          Lot_Sales_DF.dropna().loc[:,'SalePrice'])\n",
    "\n",
    "model.score(Lot_Sales_DF.dropna().drop('SalePrice', axis=1).loc[:,[\"LotArea\", \"LotFrontage\"]],\n",
    "          Lot_Sales_DF.dropna().loc[:,'SalePrice'])"
   ]
  },
  {
   "cell_type": "markdown",
   "metadata": {},
   "source": [
    "Same attributes other models "
   ]
  },
  {
   "cell_type": "code",
   "execution_count": 26,
   "metadata": {},
   "outputs": [
    {
     "data": {
      "text/plain": [
       "0.2268719428399638"
      ]
     },
     "execution_count": 26,
     "metadata": {},
     "output_type": "execute_result"
    }
   ],
   "source": [
    "# transform the distribution to analyse with a correlation matrix\n",
    "quantile_transformer = preprocessing.QuantileTransformer(output_distribution='normal',\n",
    "                                                         random_state=0)\n",
    "\n",
    "# Trasform the DF to a array \n",
    "Lot_Array = Lot_Sales_DF.dropna().drop('SalePrice', axis=1).loc[:,[\"LotArea\", \"LotFrontage\"]].values\n",
    "\n",
    "# quatile trasnformation of the Lot values\n",
    "Lot_Array = quantile_transformer.fit_transform(Lot_Array)\n",
    "\n",
    "#Transform the Array in a DF\n",
    "Lot_DF = pd.DataFrame(Lot_Array,\n",
    "                      columns=Lot_Sales_DF.dropna().drop('SalePrice', axis=1).loc[:,[\"LotArea\", \"LotFrontage\"]].columns)\n",
    "\n",
    "# Linear Regression after quantiletrasnformer\n",
    "\n",
    "reg_quant = LinearRegression().fit(Lot_DF,\n",
    "                             Lot_Sales_DF.dropna().loc[:,'SalePrice'])\n",
    "\n",
    "# score of the model\n",
    "reg_quant.score(Lot_DF,\n",
    "                Lot_Sales_DF.dropna().loc[:,'SalePrice'])\n",
    "\n"
   ]
  },
  {
   "cell_type": "markdown",
   "metadata": {},
   "source": [
    "Xgboos with quantile transformation "
   ]
  },
  {
   "cell_type": "code",
   "execution_count": 28,
   "metadata": {},
   "outputs": [
    {
     "data": {
      "text/plain": [
       "0.914597049871137"
      ]
     },
     "execution_count": 28,
     "metadata": {},
     "output_type": "execute_result"
    }
   ],
   "source": [
    "model.fit(Lot_DF,\n",
    "          Lot_Sales_DF.dropna().loc[:,'SalePrice'])\n",
    "\n",
    "model.score(Lot_DF,\n",
    "          Lot_Sales_DF.dropna().loc[:,'SalePrice'])"
   ]
  },
  {
   "cell_type": "markdown",
   "metadata": {},
   "source": [
    "With all the attributes"
   ]
  },
  {
   "cell_type": "code",
   "execution_count": 29,
   "metadata": {},
   "outputs": [
    {
     "data": {
      "text/plain": [
       "0.9381654882722108"
      ]
     },
     "execution_count": 29,
     "metadata": {},
     "output_type": "execute_result"
    }
   ],
   "source": [
    "# transform the distribution to analyse with a correlation matrix\n",
    "quantile_transformer = preprocessing.QuantileTransformer(output_distribution='normal',\n",
    "                                                         random_state=0)\n",
    "\n",
    "# Trasform the DF to a array \n",
    "Lot_Array = Lot_Sales_DF.dropna().drop('SalePrice', axis=1).values\n",
    "\n",
    "# quatile trasnformation of the Lot values\n",
    "Lot_Array = quantile_transformer.fit_transform(Lot_Array)\n",
    "\n",
    "#Transform the Array in a DF\n",
    "Lot_DF = pd.DataFrame(Lot_Array,\n",
    "                      columns=Lot_Sales_DF.dropna().drop('SalePrice', axis=1).columns)\n",
    "\n",
    "model.fit(Lot_DF,\n",
    "          Lot_Sales_DF.dropna().loc[:,'SalePrice'])\n",
    "\n",
    "model.score(Lot_DF,\n",
    "          Lot_Sales_DF.dropna().loc[:,'SalePrice'])"
   ]
  },
  {
   "cell_type": "code",
   "execution_count": null,
   "metadata": {},
   "outputs": [],
   "source": []
  }
 ],
 "metadata": {
  "kernelspec": {
   "display_name": "Python 3",
   "language": "python",
   "name": "python3"
  },
  "language_info": {
   "codemirror_mode": {
    "name": "ipython",
    "version": 3
   },
   "file_extension": ".py",
   "mimetype": "text/x-python",
   "name": "python",
   "nbconvert_exporter": "python",
   "pygments_lexer": "ipython3",
   "version": "3.7.4"
  }
 },
 "nbformat": 4,
 "nbformat_minor": 4
}
